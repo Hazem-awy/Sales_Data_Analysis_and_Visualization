{
 "cells": [
  {
   "cell_type": "markdown",
   "metadata": {},
   "source": [
    "### Import Libraries\n",
    "This block imports necessary libraries:\n",
    "- `datetime` for handling date and time.\n",
    "- `pyodbc` for database connection.\n",
    "- `pandas` for data manipulation.\n",
    "- `matplotlib.pyplot` and `seaborn` for visualization.\n"
   ]
  },
  {
   "cell_type": "code",
   "execution_count": null,
   "metadata": {},
   "outputs": [],
   "source": [
    "import datetime\n",
    "import pyodbc\n",
    "import pandas as pd\n",
    "import matplotlib.pyplot as plt\n",
    "import seaborn as sns\n"
   ]
  },
  {
   "cell_type": "markdown",
   "metadata": {},
   "source": [
    "### Establish Database Connection\n",
    "This block sets up a connection to the database using specified parameters. Replace `your_server_name`, `your_database_name`, `your_username`, and `your_password` with actual values.\n"
   ]
  },
  {
   "cell_type": "code",
   "execution_count": null,
   "metadata": {},
   "outputs": [],
   "source": [
    "# Database connection parameters\n",
    "server = 'your_server_name' \n",
    "database = 'your_database_name' \n",
    "username = 'your_username' \n",
    "password = 'your_password'  \n",
    "\n",
    "# Establish database connection\n",
    "cnxn = pyodbc.connect('DRIVER={SQL Server};SERVER='+server+';DATABASE='+database+';UID='+username+';PWD='+password)\n",
    "cursor = cnxn.cursor()\n"
   ]
  },
  {
   "cell_type": "markdown",
   "metadata": {},
   "source": [
    "### Load Data\n",
    "This block executes SQL queries to retrieve data from the `SalesPrice` and `MOA_SalesPrice` tables and loads it into Pandas DataFrames.\n"
   ]
  },
  {
   "cell_type": "code",
   "execution_count": null,
   "metadata": {},
   "outputs": [],
   "source": [
    "# Define SQL queries to fetch data\n",
    "query_sales = \"SELECT * FROM [SalesPrice];\"\n",
    "df_sales = pd.read_sql(query_sales, cnxn)\n",
    "\n",
    "query_moa = \"SELECT * FROM [MOA_SalesPrice];\"\n",
    "df_sales_moa = pd.read_sql(query_moa, cnxn)\n"
   ]
  },
  {
   "cell_type": "markdown",
   "metadata": {},
   "source": [
    "### Data Preprocessing\n",
    "This block preprocesses the data by:\n",
    "- Removing the `timestamp` column.\n",
    "- Converting `Starting Date` and `Ending Date` columns to datetime format.\n"
   ]
  },
  {
   "cell_type": "code",
   "execution_count": null,
   "metadata": {},
   "outputs": [],
   "source": [
    "# Data preprocessing for SalesPrice\n",
    "df_sales = df_sales.drop(['timestamp'], axis=1)\n",
    "df_sales['Starting Date'] = pd.to_datetime(df_sales['Starting Date'], errors='coerce').dt.date\n",
    "df_sales['Ending Date'] = pd.to_datetime(df_sales['Ending Date'], errors='coerce')\n",
    "\n",
    "# Data preprocessing for MOA Sales Price\n",
    "df_sales_moa = df_sales_moa.drop(['timestamp'], axis=1)\n",
    "df_sales_moa['Starting Date'] = pd.to_datetime(df_sales_moa['Starting Date'], errors='coerce').dt.date\n",
    "df_sales_moa['Ending Date'] = pd.to_datetime(df_sales_moa['Ending Date'], errors='coerce')\n"
   ]
  },
  {
   "cell_type": "markdown",
   "metadata": {},
   "source": [
    "### Find Extra Rows in MOA\n",
    "This block finds rows in the MOA dataset that do not exist in the Sales dataset. It saves these extra rows to a CSV file.\n"
   ]
  },
  {
   "cell_type": "code",
   "execution_count": null,
   "metadata": {},
   "outputs": [],
   "source": [
    "# Merge DataFrames to find extra rows in MOA\n",
    "df_merged_moa = df_sales_moa.merge(df_sales, on=['Item No_', 'Sales Code', 'Starting Date', 'Variant Code', 'Unit of Measure Code'], suffixes=('_moa', '_sales'), how='left', indicator=True)\n",
    "left_only_moa = df_merged_moa[df_merged_moa['_merge'] == 'left_only']\n",
    "columns_to_drop_moa = left_only_moa.filter(regex='_sales$', axis=1).columns\n",
    "left_only_moa = left_only_moa.drop(columns=columns_to_drop_moa)\n",
    "\n",
    "# Save extra rows to CSV\n",
    "now = datetime.datetime.now()\n",
    "now_str = now.strftime(\"%Y-%m-%d-%H-%M-%S\")\n",
    "filename_moa = f'E:\\\\Extra_rows_MOA_{now_str}.csv'\n",
    "left_only_moa.to_csv(filename_moa, index=False)\n"
   ]
  },
  {
   "cell_type": "markdown",
   "metadata": {},
   "source": [
    "### Find Extra Rows in Sales Price\n",
    "This block finds rows in the Sales Price dataset that do not exist in the MOA dataset. It saves these extra rows to a CSV file.\n"
   ]
  },
  {
   "cell_type": "code",
   "execution_count": null,
   "metadata": {},
   "outputs": [],
   "source": [
    "# Merge DataFrames to find extra rows in Sales Price\n",
    "df_merged_sales = df_sales.merge(df_sales_moa, on=['Item No_', 'Sales Code', 'Starting Date', 'Variant Code', 'Unit of Measure Code'], suffixes=('_sales', '_moa'), how='left', indicator=True)\n",
    "left_only_sales = df_merged_sales[df_merged_sales['_merge'] == 'left_only']\n",
    "columns_to_drop_sales = left_only_sales.filter(regex='_moa$', axis=1).columns\n",
    "left_only_sales = left_only_sales.drop(columns=columns_to_drop_sales)\n",
    "\n",
    "# Save extra rows to CSV\n",
    "filename_sales = f'E:\\\\Extra_rows_Sales_{now_str}.csv'\n",
    "left_only_sales.to_csv(filename_sales, index=False)\n"
   ]
  },
  {
   "cell_type": "markdown",
   "metadata": {},
   "source": [
    "### Analyze Differences in Unit Prices\n",
    "This block merges the Sales and MOA DataFrames to find differences in unit prices. It calculates the price differences and saves the results to a CSV file.\n"
   ]
  },
  {
   "cell_type": "code",
   "execution_count": null,
   "metadata": {},
   "outputs": [],
   "source": [
    "# Merge DataFrames to find differences in unit prices\n",
    "df_merged_prices = df_sales.merge(df_sales_moa, on=[\"Item No_\", \"Starting Date\", \"Sales Code\", \"Ending Date\", \"Unit of Measure Code\", 'Variant Code'], suffixes=('_sales', '_moa'), how='inner')\n",
    "\n",
    "# Select relevant columns and preprocess\n",
    "df_price_diff = df_merged_prices[[\"Item No_\", \"Starting Date\", \"Sales Code\", \"Ending Date\", 'Unit of Measure Code', 'Variant Code', 'Unit Price_sales', 'Unit Price_moa']]\n",
    "df_price_diff['Ending Date'] = pd.to_datetime(df_price_diff['Ending Date'], errors='coerce')\n",
    "date_to = pd.to_datetime('1753-01-01 00:00:00.000')\n",
    "df_price_diff = df_price_diff[df_price_diff['Ending Date'] == date_to]\n",
    "\n",
    "# Round unit prices\n",
    "decimal_places = 2\n",
    "df_price_diff['Unit Price_sales'] = df_price_diff['Unit Price_sales'].round(decimal_places)\n",
    "df_price_diff['Unit Price_moa'] = df_price_diff['Unit Price_moa'].round(decimal_places)\n",
    "\n",
    "# Find differences in unit prices\n",
    "df_price_diff['check'] = df_price_diff['Unit Price_sales'].eq(df_price_diff['Unit Price_moa'])\n",
    "df_price_diff = df_price_diff[df_price_diff['check'] == False]\n",
    "df_price_diff['difference'] = df_price_diff['Unit Price_sales'] - df_price_diff['Unit Price_moa']\n",
    "\n",
    "# Save the results to a CSV file\n",
    "filename_diff = f'E:\\\\Different_prices_{now_str}.csv'\n",
    "df_price_diff.to_csv(filename_diff, index=False)\n"
   ]
  },
  {
   "cell_type": "markdown",
   "metadata": {},
   "source": [
    "### Scatter Plot of Unit Price Differences\n",
    "\n",
    "This block creates a scatter plot to visualize the relationship between `Unit Price_Sales` and `Unit Price_notSales`. \n",
    "\n",
    "- **Purpose:** To identify discrepancies between sales prices and non-sales prices.\n",
    "- **Insight:** Points that deviate significantly from the line \\( y = x \\) indicate discrepancies between the two datasets.\n"
   ]
  },
  {
   "cell_type": "code",
   "execution_count": null,
   "metadata": {},
   "outputs": [],
   "source": [
    "# Scatter Plot: Unit Price Differences\n",
    "plt.figure(figsize=(10, 6))\n",
    "plt.scatter(merged_salesPro_MOA['Unit Price_Sales'], merged_salesPro_MOA['Unit Price_notSales'], alpha=0.5)\n",
    "plt.title('Scatter Plot of Unit Price Differences')\n",
    "plt.xlabel('Unit Price_Sales')\n",
    "plt.ylabel('Unit Price_notSales')\n",
    "plt.grid(True)\n",
    "plt.savefig(f'E:\\\\Sales prices 24 branch\\\\Scatter_Plot_Unit_Price_Differences_{now_str}.png')\n",
    "plt.show()\n"
   ]
  },
  {
   "cell_type": "markdown",
   "metadata": {},
   "source": [
    "### Box Plot of Unit Prices\n",
    "\n",
    "This block generates a box plot to compare the distribution of unit prices between sales and non-sales items.\n",
    "\n",
    "- **Purpose:** To visualize the range, median, and outliers in unit prices.\n",
    "- **Insight:** The box plot helps identify differences in price distributions and outliers between the two datasets.\n"
   ]
  },
  {
   "cell_type": "code",
   "execution_count": null,
   "metadata": {},
   "outputs": [],
   "source": [
    "# Box Plot: Distribution of Unit Prices\n",
    "plt.figure(figsize=(12, 6))\n",
    "price_data = pd.DataFrame({\n",
    "    'Price': pd.concat([merged_salesPro_MOA['Unit Price_Sales'], merged_salesPro_MOA['Unit Price_notSales']]),\n",
    "    'Type': ['Sales Price'] * len(merged_salesPro_MOA['Unit Price_Sales']) +\n",
    "            ['Not Sales Price'] * len(merged_salesPro_MOA['Unit Price_notSales'])\n",
    "})\n",
    "sns.boxplot(x='Type', y='Price', data=price_data)\n",
    "plt.title('Box Plot of Unit Prices')\n",
    "plt.grid(True)\n",
    "plt.savefig(f'E:\\\\Sales prices 24 branch\\\\Box_Plot_Unit_Prices_{now_str}.png')\n",
    "plt.show()\n"
   ]
  },
  {
   "cell_type": "markdown",
   "metadata": {},
   "source": [
    "### Histogram of Price Differences\n",
    "\n",
    "This block plots a histogram to display the distribution of price differences.\n",
    "\n",
    "- **Purpose:** To understand how common various levels of discrepancies are.\n",
    "- **Insight:** The histogram shows the frequency distribution of price differences, highlighting how often specific discrepancies occur.\n"
   ]
  },
  {
   "cell_type": "code",
   "execution_count": null,
   "metadata": {},
   "outputs": [],
   "source": [
    "# Histogram: Distribution of Price Differences\n",
    "plt.figure(figsize=(10, 6))\n",
    "plt.hist(merged_salesPro_MOA['difference'], bins=30, edgecolor='black', alpha=0.7)\n",
    "plt.title('Histogram of Price Differences')\n",
    "plt.xlabel('Price Difference')\n",
    "plt.ylabel('Frequency')\n",
    "plt.grid(True)\n",
    "plt.savefig(f'E:\\\\Sales prices 24 branch\\\\Histogram_Price_Differences_{now_str}.png')\n",
    "plt.show()\n"
   ]
  },
  {
   "cell_type": "markdown",
   "metadata": {},
   "source": [
    "### Line Chart of Unit Prices Over Time\n",
    "\n",
    "This block creates a line chart to visualize changes in unit prices over time, based on the starting dates.\n",
    "\n",
    "- **Purpose:** To analyze temporal trends in unit prices.\n",
    "- **Insight:** The line chart shows how prices change over time and compares sales prices with non-sales prices, helping to identify trends or significant changes.\n"
   ]
  },
  {
   "cell_type": "code",
   "execution_count": null,
   "metadata": {},
   "outputs": [],
   "source": [
    "# Line Chart: Temporal Trends of Unit Prices\n",
    "plt.figure(figsize=(12, 6))\n",
    "plt.plot(merged_salesPro_MOA['Starting Date'], merged_salesPro_MOA['Unit Price_Sales'], label='Sales Price', color='blue')\n",
    "plt.plot(merged_salesPro_MOA['Starting Date'], merged_salesPro_MOA['Unit Price_notSales'], label='Not Sales Price', color='red')\n",
    "plt.title('Line Chart of Unit Prices Over Time')\n",
    "plt.xlabel('Starting Date')\n",
    "plt.ylabel('Unit Price')\n",
    "plt.legend()\n",
    "plt.grid(True)\n",
    "plt.savefig(f'E:\\\\Sales prices 24 branch\\\\Line_Chart_Temporal_Trends_{now_str}.png')\n",
    "plt.show()\n"
   ]
  }
 ],
 "metadata": {
  "kernelspec": {
   "display_name": "Python 3",
   "language": "python",
   "name": "python3"
  },
  "language_info": {
   "name": "python",
   "version": "3.8.8"
  }
 },
 "nbformat": 4,
 "nbformat_minor": 2
}
